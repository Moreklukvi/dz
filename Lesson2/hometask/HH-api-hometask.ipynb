{
  "cells": [
    {
      "cell_type": "markdown",
      "source": [
        "[![Open In Colab](https://colab.research.google.com/assets/colab-badge.svg)](https://colab.research.google.com/github/da-python/python-for-data-analytics/blob/main/Lesson2/hometask/HH-api-hometask.ipynb)"
      ],
      "metadata": {
        "collapsed": false,
        "pycharm": {
          "name": "#%% md\n"
        },
        "id": "lF0qnV6Xxddz"
      }
    },
    {
      "cell_type": "markdown",
      "source": [
        "# Задание\n",
        "* Скачать все вакансии СБЕРа с ХХ (у апи есть ограничение в 2000, а также captcha подумайте как их можно обойти)\n",
        "* Извлеките все описания этих вакансий\n",
        "* Создайте DataFrame  добавьте поле skills\n",
        "* Переведите даты публикаций в datetime\n",
        "* Постройте график опубликованных вакансий по датам\n",
        "* Переведите даты в дни недели, и определите день недели, в который больше всего публикуют вакансий\n",
        "* Найдите те вакансии с использованием python, которые вам интересны\n",
        "* Определите по полю skills какие навыки больше всего востребованы для этих вакансий\n",
        "* Постройте график наиболее востребованных навыков для аналитика данных"
      ],
      "metadata": {
        "collapsed": false,
        "pycharm": {
          "name": "#%% md\n"
        },
        "id": "08jQqwB1xdd3"
      }
    },
    {
      "cell_type": "markdown",
      "source": [
        "https://github.com/hhru/api"
      ],
      "metadata": {
        "collapsed": false,
        "pycharm": {
          "name": "#%% md\n"
        },
        "id": "5atdqZEMxdd3"
      }
    },
    {
      "cell_type": "code",
      "execution_count": 1,
      "outputs": [],
      "source": [
        "import requests\n",
        "from tqdm.auto import tqdm\n",
        "import pandas as pd"
      ],
      "metadata": {
        "pycharm": {
          "name": "#%%\n"
        },
        "id": "eGnYxJ9hxdd4"
      }
    },
    {
      "cell_type": "code",
      "execution_count": 2,
      "outputs": [],
      "source": [
        "sber = '3529'\n",
        "page = 1\n",
        "num_per_page = 100\n",
        "moscow = 1\n",
        "url = f'https://api.hh.ru/vacancies?employer_id={sber}&page={page}&per_page={num_per_page}&area={moscow}'"
      ],
      "metadata": {
        "pycharm": {
          "name": "#%%\n"
        },
        "id": "xEneemIMxdd5"
      }
    },
    {
      "cell_type": "code",
      "execution_count": 3,
      "outputs": [],
      "source": [
        "url = f'https://api.hh.ru/vacancies'\n",
        "params = {\n",
        "    'employer_id':sber,\n",
        "    'page':page,\n",
        "    'per_page':num_per_page,\n",
        "    'area':moscow,\n",
        "}\n",
        "res = requests.get(url, params=params)"
      ],
      "metadata": {
        "pycharm": {
          "name": "#%%\n"
        },
        "id": "UMYg8RsCxdd5"
      }
    },
    {
      "cell_type": "code",
      "execution_count": 5,
      "outputs": [],
      "source": [
        "res = requests.get(url)"
      ],
      "metadata": {
        "pycharm": {
          "name": "#%%\n"
        },
        "id": "dwOfZ3DMxdd6"
      }
    },
    {
      "cell_type": "code",
      "execution_count": 7,
      "outputs": [
        {
          "output_type": "execute_result",
          "data": {
            "text/plain": [
              "100"
            ]
          },
          "metadata": {},
          "execution_count": 7
        }
      ],
      "source": [
        "\n",
        "vacancies = res.json()\n",
        "num_pages = vacancies.get('pages')\n",
        "num_pages"
      ],
      "metadata": {
        "pycharm": {
          "name": "#%%\n"
        },
        "colab": {
          "base_uri": "https://localhost:8080/"
        },
        "id": "6Bu9exbRxdd8",
        "outputId": "4abbb714-8c90-423d-db2b-519b2f968754"
      }
    },
    {
      "cell_type": "code",
      "execution_count": 8,
      "outputs": [
        {
          "output_type": "execute_result",
          "data": {
            "text/plain": [
              "dict_keys(['items', 'found', 'pages', 'per_page', 'page', 'clusters', 'arguments', 'alternate_url'])"
            ]
          },
          "metadata": {},
          "execution_count": 8
        }
      ],
      "source": [
        "vacancies.keys()"
      ],
      "metadata": {
        "pycharm": {
          "name": "#%%\n"
        },
        "colab": {
          "base_uri": "https://localhost:8080/"
        },
        "id": "wLGzyhA8xdd8",
        "outputId": "4b9ad2a4-20b1-45a2-c5da-1ac7c2cdbd72"
      }
    },
    {
      "cell_type": "code",
      "execution_count": 9,
      "outputs": [
        {
          "output_type": "execute_result",
          "data": {
            "text/plain": [
              "{'accept_temporary': False,\n",
              " 'address': None,\n",
              " 'adv_response_url': 'https://api.hh.ru/vacancies/68324477/adv_response?host=hh.ru',\n",
              " 'alternate_url': 'https://hh.ru/vacancy/68324477',\n",
              " 'apply_alternate_url': 'https://hh.ru/applicant/vacancy_response?vacancyId=68324477',\n",
              " 'archived': False,\n",
              " 'area': {'id': '1', 'name': 'Москва', 'url': 'https://api.hh.ru/areas/1'},\n",
              " 'contacts': None,\n",
              " 'created_at': '2022-08-01T09:34:36+0300',\n",
              " 'department': None,\n",
              " 'employer': {'alternate_url': 'https://hh.ru/employer/2489728',\n",
              "  'id': '2489728',\n",
              "  'logo_urls': {'240': 'https://hhcdn.ru/employer-logo/3424738.jpeg',\n",
              "   '90': 'https://hhcdn.ru/employer-logo/3424737.jpeg',\n",
              "   'original': 'https://hhcdn.ru/employer-logo-original/745944.jpg'},\n",
              "  'name': 'Банкирро',\n",
              "  'trusted': True,\n",
              "  'url': 'https://api.hh.ru/employers/2489728',\n",
              "  'vacancies_url': 'https://api.hh.ru/vacancies?employer_id=2489728'},\n",
              " 'has_test': False,\n",
              " 'id': '68324477',\n",
              " 'insider_interview': None,\n",
              " 'name': 'Менеджер по продажам услуг',\n",
              " 'premium': False,\n",
              " 'published_at': '2022-08-01T09:34:36+0300',\n",
              " 'relations': [],\n",
              " 'response_letter_required': False,\n",
              " 'response_url': None,\n",
              " 'salary': {'currency': 'RUR', 'from': None, 'gross': False, 'to': 350000},\n",
              " 'schedule': {'id': 'fullDay', 'name': 'Полный день'},\n",
              " 'snippet': {'requirement': 'Имеешь опыт проведения презентаций, закрытия возражений и урегулирования конфликтов.',\n",
              "  'responsibility': 'Никакого поиска клиентов и холодного обзвона, работаем на входящем потоке, непрерывный поток клиентов.'},\n",
              " 'sort_point_distance': None,\n",
              " 'type': {'id': 'open', 'name': 'Открытая'},\n",
              " 'url': 'https://api.hh.ru/vacancies/68324477?host=hh.ru',\n",
              " 'working_days': [],\n",
              " 'working_time_intervals': [],\n",
              " 'working_time_modes': []}"
            ]
          },
          "metadata": {},
          "execution_count": 9
        }
      ],
      "source": [
        "vacancies.get('items')[0]"
      ],
      "metadata": {
        "pycharm": {
          "name": "#%%\n"
        },
        "colab": {
          "base_uri": "https://localhost:8080/"
        },
        "id": "Kaq0e0MCxdd8",
        "outputId": "d9345933-bac3-4002-cdb2-36e0ad4b459f"
      }
    },
    {
      "cell_type": "code",
      "execution_count": 10,
      "outputs": [],
      "source": [
        "v = vacancies.get('items')"
      ],
      "metadata": {
        "pycharm": {
          "name": "#%%\n"
        },
        "id": "X6Xqniagxdd8"
      }
    },
    {
      "cell_type": "code",
      "execution_count": 13,
      "outputs": [],
      "source": [
        "vacancies = res.json()\n",
        "num_pages = vacancies.get('pages')\n",
        "vacancy_ids = [el.get('id') for el in vacancies.get('items')]"
      ],
      "metadata": {
        "pycharm": {
          "name": "#%%\n"
        },
        "id": "q1xmFMuYxdd9"
      }
    },
    {
      "cell_type": "code",
      "execution_count": 14,
      "outputs": [
        {
          "output_type": "execute_result",
          "data": {
            "text/plain": [
              "dict_keys(['items', 'found', 'pages', 'per_page', 'page', 'clusters', 'arguments', 'alternate_url'])"
            ]
          },
          "metadata": {},
          "execution_count": 14
        }
      ],
      "source": [
        "vacancies.keys()"
      ],
      "metadata": {
        "pycharm": {
          "name": "#%%\n"
        },
        "colab": {
          "base_uri": "https://localhost:8080/"
        },
        "id": "qI_zGZV-xdd9",
        "outputId": "3e0f7d44-de0d-4a30-a2c0-178929b11b10"
      }
    },
    {
      "cell_type": "code",
      "execution_count": 15,
      "outputs": [],
      "source": [
        "vnum  = vacancies.get('pages')"
      ],
      "metadata": {
        "pycharm": {
          "name": "#%%\n"
        },
        "id": "smBuSDPIxdd-"
      }
    },
    {
      "cell_type": "code",
      "execution_count": 18,
      "metadata": {
        "pycharm": {
          "name": "#%%\n"
        },
        "colab": {
          "base_uri": "https://localhost:8080/"
        },
        "id": "4WqNx509xdd-",
        "outputId": "5c9ee346-4401-4ec0-8d55-c5f6ffb1fa46"
      },
      "outputs": [
        {
          "output_type": "execute_result",
          "data": {
            "text/plain": [
              "1150"
            ]
          },
          "metadata": {},
          "execution_count": 18
        }
      ],
      "source": [
        "len(all_vacancy_ids)\n",
        "# https://api.hh.ru/vacancies/66634517"
      ]
    },
    {
      "cell_type": "code",
      "execution_count": 17,
      "metadata": {
        "pycharm": {
          "name": "#%%\n"
        },
        "colab": {
          "base_uri": "https://localhost:8080/",
          "height": 49,
          "referenced_widgets": [
            "36fc9f3c8e5a477f99d83714ff6d251a",
            "b733ae8766af4e84af2d0713e5968362",
            "e8fa9a0fad7a456ea6d00cb70ccef957",
            "606f028ca4454a3f9aa71b99892c71d3",
            "e5c9ec2c1bc643959220ade6d89e60ca",
            "e588d849e73b4b098148b040aa6bdbfb",
            "2567563f4be24267b253452d5ce2211d",
            "ae839128d2524d438034d42dd1c4da5b",
            "dbc5177a259846b1a9a4468a9e00cdc7",
            "ce16350b06774e7b90c504e3b082e812",
            "d324e5180f2f4371a45a65de65fec7e1"
          ]
        },
        "id": "Y7PVTxs0xdd-",
        "outputId": "a3423b02-d898-4d4c-f40b-d6f288562fac"
      },
      "outputs": [
        {
          "output_type": "display_data",
          "data": {
            "text/plain": [
              "  0%|          | 0/1150 [00:00<?, ?it/s]"
            ],
            "application/vnd.jupyter.widget-view+json": {
              "version_major": 2,
              "version_minor": 0,
              "model_id": "36fc9f3c8e5a477f99d83714ff6d251a"
            }
          },
          "metadata": {}
        }
      ],
      "source": [
        "vacs = []\n",
        "for vac_id in tqdm(all_vacancy_ids):\n",
        "    url = f'https://api.hh.ru/vacancies/{vac_id}'\n",
        "    res = requests.get(url)\n",
        "    vacs.append(res.json())"
      ]
    },
    {
      "cell_type": "code",
      "execution_count": 19,
      "metadata": {
        "pycharm": {
          "name": "#%%\n"
        },
        "id": "8734ptv6xdd_"
      },
      "outputs": [],
      "source": [
        "res = requests.get(url)"
      ]
    },
    {
      "cell_type": "code",
      "execution_count": 20,
      "outputs": [
        {
          "output_type": "execute_result",
          "data": {
            "text/plain": [
              "dict_keys(['id', 'premium', 'billing_type', 'relations', 'name', 'insider_interview', 'response_letter_required', 'area', 'salary', 'type', 'address', 'allow_messages', 'experience', 'schedule', 'employment', 'department', 'contacts', 'description', 'branded_description', 'vacancy_constructor_template', 'key_skills', 'accept_handicapped', 'accept_kids', 'archived', 'response_url', 'specializations', 'professional_roles', 'code', 'hidden', 'quick_responses_allowed', 'driver_license_types', 'accept_incomplete_resumes', 'employer', 'published_at', 'created_at', 'initial_created_at', 'negotiations_url', 'suitable_resumes_url', 'apply_alternate_url', 'has_test', 'test', 'alternate_url', 'immediate_redirect_url', 'working_days', 'working_time_intervals', 'working_time_modes', 'accept_temporary', 'languages'])"
            ]
          },
          "metadata": {},
          "execution_count": 20
        }
      ],
      "source": [
        "res.json().keys()"
      ],
      "metadata": {
        "pycharm": {
          "name": "#%%\n"
        },
        "colab": {
          "base_uri": "https://localhost:8080/"
        },
        "id": "Hi-IZ35vxdd_",
        "outputId": "5b2daebf-29dd-43b9-90ae-373759316212"
      }
    },
    {
      "cell_type": "code",
      "execution_count": 21,
      "outputs": [
        {
          "output_type": "execute_result",
          "data": {
            "text/plain": [
              "[{'name': 'Проведение презентаций'},\n",
              " {'name': 'Поиск и привлечение клиентов'},\n",
              " {'name': 'Холодные продажи'},\n",
              " {'name': 'Прямые продажи'}]"
            ]
          },
          "metadata": {},
          "execution_count": 21
        }
      ],
      "source": [
        "res.json().get('key_skills')"
      ],
      "metadata": {
        "pycharm": {
          "name": "#%%\n"
        },
        "colab": {
          "base_uri": "https://localhost:8080/"
        },
        "id": "E2Yzy6oOxdd_",
        "outputId": "e13ba7a8-2330-48ec-c99b-48d0be8ac975"
      }
    },
    {
      "cell_type": "code",
      "execution_count": 22,
      "outputs": [
        {
          "output_type": "execute_result",
          "data": {
            "text/plain": [
              "[{'name': 'SQL'}, {'name': 'Python'}, {'name': 'Git'}]"
            ]
          },
          "metadata": {},
          "execution_count": 22
        }
      ],
      "source": [
        "[{'name':'SQL'},{'name':'Python'},{'name':'Git'}]"
      ],
      "metadata": {
        "pycharm": {
          "name": "#%%\n"
        },
        "colab": {
          "base_uri": "https://localhost:8080/"
        },
        "id": "Mqry2nq0xdd_",
        "outputId": "e88636ec-72f3-4ef4-a701-bb9537972eb8"
      }
    },
    {
      "cell_type": "code",
      "execution_count": 23,
      "outputs": [
        {
          "output_type": "execute_result",
          "data": {
            "text/plain": [
              "['SQL', 'Python', 'Git']"
            ]
          },
          "metadata": {},
          "execution_count": 23
        }
      ],
      "source": [
        "[x.get('name') for x in [{'name':'SQL'},{'name':'Python'},{'name':'Git'}]]"
      ],
      "metadata": {
        "pycharm": {
          "name": "#%%\n"
        },
        "colab": {
          "base_uri": "https://localhost:8080/"
        },
        "id": "oZcyjkhZxdd_",
        "outputId": "162c4b70-5be3-4408-b497-2c1f1306d5ec"
      }
    },
    {
      "cell_type": "code",
      "execution_count": 46,
      "outputs": [],
      "source": [
        "df = pd.json_normalize(vacs)"
      ],
      "metadata": {
        "pycharm": {
          "name": "#%%\n"
        },
        "id": "VHBL9S0GxdeA"
      }
    },
    {
      "cell_type": "code",
      "execution_count": 48,
      "outputs": [],
      "source": [
        "df = pd.DataFrame(vacs)"
      ],
      "metadata": {
        "pycharm": {
          "name": "#%%\n"
        },
        "id": "3MQdWg_ixdeA"
      }
    },
    {
      "cell_type": "code",
      "source": [
        "df['created_at'] = pd.to_datetime(df['created_at'])"
      ],
      "metadata": {
        "id": "faYXPHsY3bAB"
      },
      "execution_count": 49,
      "outputs": []
    },
    {
      "cell_type": "code",
      "source": [
        "df.info()"
      ],
      "metadata": {
        "colab": {
          "base_uri": "https://localhost:8080/"
        },
        "id": "u3qwDvrE5ez1",
        "outputId": "345e83b7-abaa-4761-c585-b7a5f3819f3e"
      },
      "execution_count": 68,
      "outputs": [
        {
          "output_type": "stream",
          "name": "stdout",
          "text": [
            "<class 'pandas.core.frame.DataFrame'>\n",
            "RangeIndex: 1150 entries, 0 to 1149\n",
            "Data columns (total 48 columns):\n",
            " #   Column                        Non-Null Count  Dtype                                \n",
            "---  ------                        --------------  -----                                \n",
            " 0   id                            1150 non-null   object                               \n",
            " 1   premium                       1150 non-null   bool                                 \n",
            " 2   billing_type                  1150 non-null   object                               \n",
            " 3   relations                     1150 non-null   object                               \n",
            " 4   name                          1150 non-null   object                               \n",
            " 5   insider_interview             0 non-null      object                               \n",
            " 6   response_letter_required      1150 non-null   bool                                 \n",
            " 7   area                          1150 non-null   object                               \n",
            " 8   salary                        99 non-null     object                               \n",
            " 9   type                          1150 non-null   object                               \n",
            " 10  address                       444 non-null    object                               \n",
            " 11  allow_messages                1150 non-null   bool                                 \n",
            " 12  experience                    1150 non-null   object                               \n",
            " 13  schedule                      1150 non-null   object                               \n",
            " 14  employment                    1150 non-null   object                               \n",
            " 15  department                    1085 non-null   object                               \n",
            " 16  contacts                      0 non-null      object                               \n",
            " 17  description                   1150 non-null   object                               \n",
            " 18  branded_description           924 non-null    object                               \n",
            " 19  vacancy_constructor_template  0 non-null      object                               \n",
            " 20  key_skills                    1150 non-null   object                               \n",
            " 21  accept_handicapped            1150 non-null   bool                                 \n",
            " 22  accept_kids                   1150 non-null   bool                                 \n",
            " 23  archived                      1150 non-null   bool                                 \n",
            " 24  response_url                  13 non-null     object                               \n",
            " 25  specializations               1150 non-null   object                               \n",
            " 26  professional_roles            1150 non-null   object                               \n",
            " 27  code                          21 non-null     object                               \n",
            " 28  hidden                        1150 non-null   bool                                 \n",
            " 29  quick_responses_allowed       1150 non-null   bool                                 \n",
            " 30  driver_license_types          1150 non-null   object                               \n",
            " 31  accept_incomplete_resumes     1150 non-null   bool                                 \n",
            " 32  employer                      1150 non-null   object                               \n",
            " 33  published_at                  1150 non-null   object                               \n",
            " 34  created_at                    1150 non-null   datetime64[ns, pytz.FixedOffset(180)]\n",
            " 35  initial_created_at            1150 non-null   object                               \n",
            " 36  negotiations_url              0 non-null      object                               \n",
            " 37  suitable_resumes_url          0 non-null      object                               \n",
            " 38  apply_alternate_url           1150 non-null   object                               \n",
            " 39  has_test                      1150 non-null   bool                                 \n",
            " 40  test                          0 non-null      object                               \n",
            " 41  alternate_url                 1150 non-null   object                               \n",
            " 42  working_days                  1150 non-null   object                               \n",
            " 43  working_time_intervals        1150 non-null   object                               \n",
            " 44  working_time_modes            1150 non-null   object                               \n",
            " 45  accept_temporary              1150 non-null   bool                                 \n",
            " 46  languages                     1150 non-null   object                               \n",
            " 47  immediate_redirect_url        13 non-null     object                               \n",
            "dtypes: bool(11), datetime64[ns, pytz.FixedOffset(180)](1), object(36)\n",
            "memory usage: 344.9+ KB\n"
          ]
        }
      ]
    },
    {
      "cell_type": "code",
      "source": [
        "df['key_skills']"
      ],
      "metadata": {
        "colab": {
          "base_uri": "https://localhost:8080/"
        },
        "id": "muDDnVzHEnGK",
        "outputId": "0a6fa5af-18aa-45f0-8aa4-e34483b87f78"
      },
      "execution_count": 74,
      "outputs": [
        {
          "output_type": "execute_result",
          "data": {
            "text/plain": [
              "0                                                      []\n",
              "1                                                      []\n",
              "2                                                      []\n",
              "3       [{'name': 'Прямые продажи'}, {'name': 'Финансо...\n",
              "4       [{'name': 'Git'}, {'name': 'Java'}, {'name': '...\n",
              "                              ...                        \n",
              "1145    [{'name': 'Проведение презентаций'}, {'name': ...\n",
              "1146    [{'name': 'Холодные продажи'}, {'name': 'Поиск...\n",
              "1147    [{'name': 'Активные продажи'}, {'name': 'Холод...\n",
              "1148    [{'name': 'Проведение презентаций'}, {'name': ...\n",
              "1149    [{'name': 'Проведение презентаций'}, {'name': ...\n",
              "Name: key_skills, Length: 1150, dtype: object"
            ]
          },
          "metadata": {},
          "execution_count": 74
        }
      ]
    },
    {
      "cell_type": "code",
      "source": [
        "list_of_skills = df['key_skills'].apply(lambda s: [x.get('name') for x in s]).tolist()"
      ],
      "metadata": {
        "id": "Di6nQ7n9BWHf"
      },
      "execution_count": 75,
      "outputs": []
    },
    {
      "cell_type": "code",
      "source": [
        "df['skills'] = list_of_skills"
      ],
      "metadata": {
        "id": "9S9QQG2sF8HJ"
      },
      "execution_count": 76,
      "outputs": []
    },
    {
      "cell_type": "code",
      "source": [
        "df['created_at'] = df['created_at'].dt.strftime('%m/%d/%Y')"
      ],
      "metadata": {
        "id": "FNY85UJtHawk"
      },
      "execution_count": 86,
      "outputs": []
    },
    {
      "cell_type": "code",
      "source": [
        "df['created_at']"
      ],
      "metadata": {
        "colab": {
          "base_uri": "https://localhost:8080/"
        },
        "id": "Aa5LgkCWHjBg",
        "outputId": "436ded5b-13b4-48d2-eaef-66fc57efc98b"
      },
      "execution_count": 87,
      "outputs": [
        {
          "output_type": "execute_result",
          "data": {
            "text/plain": [
              "0       08/03/2022\n",
              "1       08/03/2022\n",
              "2       08/01/2022\n",
              "3       08/02/2022\n",
              "4       08/02/2022\n",
              "           ...    \n",
              "1145    08/07/2022\n",
              "1146    08/07/2022\n",
              "1147    08/07/2022\n",
              "1148    08/07/2022\n",
              "1149    08/07/2022\n",
              "Name: created_at, Length: 1150, dtype: object"
            ]
          },
          "metadata": {},
          "execution_count": 87
        }
      ]
    },
    {
      "cell_type": "code",
      "source": [
        "import matplotlib.pyplot as plt\n",
        "\n",
        "plt.bar(df['created_at'], df['id'])"
      ],
      "metadata": {
        "colab": {
          "base_uri": "https://localhost:8080/",
          "height": 283
        },
        "id": "5j9x2SXDGHr4",
        "outputId": "25bac5e8-d6ec-4845-ea5d-19299258f21f"
      },
      "execution_count": 105,
      "outputs": [
        {
          "output_type": "execute_result",
          "data": {
            "text/plain": [
              "<BarContainer object of 1150 artists>"
            ]
          },
          "metadata": {},
          "execution_count": 105
        },
        {
          "output_type": "display_data",
          "data": {
            "text/plain": [
              "<Figure size 432x288 with 1 Axes>"
            ],
            "image/png": "[encoded data removed]"
          },
          "metadata": {
            "needs_background": "light"
          }
        }
      ]
    },
    {
      "cell_type": "code",
      "source": [
        "df['created_at'] = pd.to_datetime(df['created_at'])\n",
        "df['day_of_week'] = df['created_at'].dt.day_name()"
      ],
      "metadata": {
        "id": "wfdZD1ZAImau"
      },
      "execution_count": 112,
      "outputs": []
    },
    {
      "cell_type": "code",
      "source": [
        "from numpy.ma.core import count\n",
        "c = count('Monday')"
      ],
      "metadata": {
        "id": "1ZemLAx-PYy1"
      },
      "execution_count": 116,
      "outputs": []
    },
    {
      "cell_type": "code",
      "source": [
        "from collections import Counter\n",
        "d = df['day_of_week'].tolist()\n",
        "a = ('Sunday', 'Monday', 'Tuesday', 'Wednesday', 'Thursday', 'Friday', 'Saturday')\n",
        "b = 0\n",
        "c = 0\n",
        "for i in a:\n",
        "  if d.count(i) > b:\n",
        "    b = d.count(i)\n",
        "    c = i\n",
        "print(c, '-', b, 'вакансии')\n",
        "\n",
        "\n",
        "# Monday"
      ],
      "metadata": {
        "colab": {
          "base_uri": "https://localhost:8080/"
        },
        "id": "ioMBASgEKrMx",
        "outputId": "d75ba3f4-1c9a-4336-c1ea-ced2567d1203"
      },
      "execution_count": 123,
      "outputs": [
        {
          "output_type": "stream",
          "name": "stdout",
          "text": [
            "Monday - 253 вакансии\n"
          ]
        }
      ]
    }
  ],
  "metadata": {
    "kernelspec": {
      "display_name": "Python 3",
      "language": "python",
      "name": "python3"
    },
    "language_info": {
      "codemirror_mode": {
        "name": "ipython",
        "version": 3
      },
      "file_extension": ".py",
      "mimetype": "text/x-python",
      "name": "python",
      "nbconvert_exporter": "python",
      "pygments_lexer": "ipython3",
      "version": "3.8.5"
    },
    "colab": {
      "name": "HH-api-hometask.ipynb",
      "provenance": []
    },
    "widgets": {
      "application/vnd.jupyter.widget-state+json": {
        "36fc9f3c8e5a477f99d83714ff6d251a": {
          "model_module": "@jupyter-widgets/controls",
          "model_name": "HBoxModel",
          "model_module_version": "1.5.0",
          "state": {
            "_dom_classes": [],
            "_model_module": "@jupyter-widgets/controls",
            "_model_module_version": "1.5.0",
            "_model_name": "HBoxModel",
            "_view_count": null,
            "_view_module": "@jupyter-widgets/controls",
            "_view_module_version": "1.5.0",
            "_view_name": "HBoxView",
            "box_style": "",
            "children": [
              "IPY_MODEL_b733ae8766af4e84af2d0713e5968362",
              "IPY_MODEL_e8fa9a0fad7a456ea6d00cb70ccef957",
              "IPY_MODEL_606f028ca4454a3f9aa71b99892c71d3"
            ],
            "layout": "IPY_MODEL_e5c9ec2c1bc643959220ade6d89e60ca"
          }
        },
        "b733ae8766af4e84af2d0713e5968362": {
          "model_module": "@jupyter-widgets/controls",
          "model_name": "HTMLModel",
          "model_module_version": "1.5.0",
          "state": {
            "_dom_classes": [],
            "_model_module": "@jupyter-widgets/controls",
            "_model_module_version": "1.5.0",
            "_model_name": "HTMLModel",
            "_view_count": null,
            "_view_module": "@jupyter-widgets/controls",
            "_view_module_version": "1.5.0",
            "_view_name": "HTMLView",
            "description": "",
            "description_tooltip": null,
            "layout": "IPY_MODEL_e588d849e73b4b098148b040aa6bdbfb",
            "placeholder": "​",
            "style": "IPY_MODEL_2567563f4be24267b253452d5ce2211d",
            "value": "100%"
          }
        },
        "e8fa9a0fad7a456ea6d00cb70ccef957": {
          "model_module": "@jupyter-widgets/controls",
          "model_name": "FloatProgressModel",
          "model_module_version": "1.5.0",
          "state": {
            "_dom_classes": [],
            "_model_module": "@jupyter-widgets/controls",
            "_model_module_version": "1.5.0",
            "_model_name": "FloatProgressModel",
            "_view_count": null,
            "_view_module": "@jupyter-widgets/controls",
            "_view_module_version": "1.5.0",
            "_view_name": "ProgressView",
            "bar_style": "success",
            "description": "",
            "description_tooltip": null,
            "layout": "IPY_MODEL_ae839128d2524d438034d42dd1c4da5b",
            "max": 1150,
            "min": 0,
            "orientation": "horizontal",
            "style": "IPY_MODEL_dbc5177a259846b1a9a4468a9e00cdc7",
            "value": 1150
          }
        },
        "606f028ca4454a3f9aa71b99892c71d3": {
          "model_module": "@jupyter-widgets/controls",
          "model_name": "HTMLModel",
          "model_module_version": "1.5.0",
          "state": {
            "_dom_classes": [],
            "_model_module": "@jupyter-widgets/controls",
            "_model_module_version": "1.5.0",
            "_model_name": "HTMLModel",
            "_view_count": null,
            "_view_module": "@jupyter-widgets/controls",
            "_view_module_version": "1.5.0",
            "_view_name": "HTMLView",
            "description": "",
            "description_tooltip": null,
            "layout": "IPY_MODEL_ce16350b06774e7b90c504e3b082e812",
            "placeholder": "​",
            "style": "IPY_MODEL_d324e5180f2f4371a45a65de65fec7e1",
            "value": " 1150/1150 [13:05&lt;00:00,  1.40it/s]"
          }
        },
        "e5c9ec2c1bc643959220ade6d89e60ca": {
          "model_module": "@jupyter-widgets/base",
          "model_name": "LayoutModel",
          "model_module_version": "1.2.0",
          "state": {
            "_model_module": "@jupyter-widgets/base",
            "_model_module_version": "1.2.0",
            "_model_name": "LayoutModel",
            "_view_count": null,
            "_view_module": "@jupyter-widgets/base",
            "_view_module_version": "1.2.0",
            "_view_name": "LayoutView",
            "align_content": null,
            "align_items": null,
            "align_self": null,
            "border": null,
            "bottom": null,
            "display": null,
            "flex": null,
            "flex_flow": null,
            "grid_area": null,
            "grid_auto_columns": null,
            "grid_auto_flow": null,
            "grid_auto_rows": null,
            "grid_column": null,
            "grid_gap": null,
            "grid_row": null,
            "grid_template_areas": null,
            "grid_template_columns": null,
            "grid_template_rows": null,
            "height": null,
            "justify_content": null,
            "justify_items": null,
            "left": null,
            "margin": null,
            "max_height": null,
            "max_width": null,
            "min_height": null,
            "min_width": null,
            "object_fit": null,
            "object_position": null,
            "order": null,
            "overflow": null,
            "overflow_x": null,
            "overflow_y": null,
            "padding": null,
            "right": null,
            "top": null,
            "visibility": null,
            "width": null
          }
        },
        "e588d849e73b4b098148b040aa6bdbfb": {
          "model_module": "@jupyter-widgets/base",
          "model_name": "LayoutModel",
          "model_module_version": "1.2.0",
          "state": {
            "_model_module": "@jupyter-widgets/base",
            "_model_module_version": "1.2.0",
            "_model_name": "LayoutModel",
            "_view_count": null,
            "_view_module": "@jupyter-widgets/base",
            "_view_module_version": "1.2.0",
            "_view_name": "LayoutView",
            "align_content": null,
            "align_items": null,
            "align_self": null,
            "border": null,
            "bottom": null,
            "display": null,
            "flex": null,
            "flex_flow": null,
            "grid_area": null,
            "grid_auto_columns": null,
            "grid_auto_flow": null,
            "grid_auto_rows": null,
            "grid_column": null,
            "grid_gap": null,
            "grid_row": null,
            "grid_template_areas": null,
            "grid_template_columns": null,
            "grid_template_rows": null,
            "height": null,
            "justify_content": null,
            "justify_items": null,
            "left": null,
            "margin": null,
            "max_height": null,
            "max_width": null,
            "min_height": null,
            "min_width": null,
            "object_fit": null,
            "object_position": null,
            "order": null,
            "overflow": null,
            "overflow_x": null,
            "overflow_y": null,
            "padding": null,
            "right": null,
            "top": null,
            "visibility": null,
            "width": null
          }
        },
        "2567563f4be24267b253452d5ce2211d": {
          "model_module": "@jupyter-widgets/controls",
          "model_name": "DescriptionStyleModel",
          "model_module_version": "1.5.0",
          "state": {
            "_model_module": "@jupyter-widgets/controls",
            "_model_module_version": "1.5.0",
            "_model_name": "DescriptionStyleModel",
            "_view_count": null,
            "_view_module": "@jupyter-widgets/base",
            "_view_module_version": "1.2.0",
            "_view_name": "StyleView",
            "description_width": ""
          }
        },
        "ae839128d2524d438034d42dd1c4da5b": {
          "model_module": "@jupyter-widgets/base",
          "model_name": "LayoutModel",
          "model_module_version": "1.2.0",
          "state": {
            "_model_module": "@jupyter-widgets/base",
            "_model_module_version": "1.2.0",
            "_model_name": "LayoutModel",
            "_view_count": null,
            "_view_module": "@jupyter-widgets/base",
            "_view_module_version": "1.2.0",
            "_view_name": "LayoutView",
            "align_content": null,
            "align_items": null,
            "align_self": null,
            "border": null,
            "bottom": null,
            "display": null,
            "flex": null,
            "flex_flow": null,
            "grid_area": null,
            "grid_auto_columns": null,
            "grid_auto_flow": null,
            "grid_auto_rows": null,
            "grid_column": null,
            "grid_gap": null,
            "grid_row": null,
            "grid_template_areas": null,
            "grid_template_columns": null,
            "grid_template_rows": null,
            "height": null,
            "justify_content": null,
            "justify_items": null,
            "left": null,
            "margin": null,
            "max_height": null,
            "max_width": null,
            "min_height": null,
            "min_width": null,
            "object_fit": null,
            "object_position": null,
            "order": null,
            "overflow": null,
            "overflow_x": null,
            "overflow_y": null,
            "padding": null,
            "right": null,
            "top": null,
            "visibility": null,
            "width": null
          }
        },
        "dbc5177a259846b1a9a4468a9e00cdc7": {
          "model_module": "@jupyter-widgets/controls",
          "model_name": "ProgressStyleModel",
          "model_module_version": "1.5.0",
          "state": {
            "_model_module": "@jupyter-widgets/controls",
            "_model_module_version": "1.5.0",
            "_model_name": "ProgressStyleModel",
            "_view_count": null,
            "_view_module": "@jupyter-widgets/base",
            "_view_module_version": "1.2.0",
            "_view_name": "StyleView",
            "bar_color": null,
            "description_width": ""
          }
        },
        "ce16350b06774e7b90c504e3b082e812": {
          "model_module": "@jupyter-widgets/base",
          "model_name": "LayoutModel",
          "model_module_version": "1.2.0",
          "state": {
            "_model_module": "@jupyter-widgets/base",
            "_model_module_version": "1.2.0",
            "_model_name": "LayoutModel",
            "_view_count": null,
            "_view_module": "@jupyter-widgets/base",
            "_view_module_version": "1.2.0",
            "_view_name": "LayoutView",
            "align_content": null,
            "align_items": null,
            "align_self": null,
            "border": null,
            "bottom": null,
            "display": null,
            "flex": null,
            "flex_flow": null,
            "grid_area": null,
            "grid_auto_columns": null,
            "grid_auto_flow": null,
            "grid_auto_rows": null,
            "grid_column": null,
            "grid_gap": null,
            "grid_row": null,
            "grid_template_areas": null,
            "grid_template_columns": null,
            "grid_template_rows": null,
            "height": null,
            "justify_content": null,
            "justify_items": null,
            "left": null,
            "margin": null,
            "max_height": null,
            "max_width": null,
            "min_height": null,
            "min_width": null,
            "object_fit": null,
            "object_position": null,
            "order": null,
            "overflow": null,
            "overflow_x": null,
            "overflow_y": null,
            "padding": null,
            "right": null,
            "top": null,
            "visibility": null,
            "width": null
          }
        },
        "d324e5180f2f4371a45a65de65fec7e1": {
          "model_module": "@jupyter-widgets/controls",
          "model_name": "DescriptionStyleModel",
          "model_module_version": "1.5.0",
          "state": {
            "_model_module": "@jupyter-widgets/controls",
            "_model_module_version": "1.5.0",
            "_model_name": "DescriptionStyleModel",
            "_view_count": null,
            "_view_module": "@jupyter-widgets/base",
            "_view_module_version": "1.2.0",
            "_view_name": "StyleView",
            "description_width": ""
          }
        }
      }
    }
  },
  "nbformat": 4,
  "nbformat_minor": 0
}
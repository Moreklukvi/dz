{
 "cells": [
  {
   "cell_type": "code",
   "execution_count": null,
   "metadata": {},
   "outputs": [],
   "source": [
    "class Player:\n",
    "    Player = [1,1]\n",
    " \n",
    "    def moveRight(self):\n",
    "        new_pose = [Player[0]+1,Player[1]]\n",
    "        if Maze[new_pose[0]][new_pose[1]] == 0:\n",
    "            Player = new_pose\n",
    " \n",
    "    def moveLeft(self):\n",
    "        new_pose = [Player[0]-1,Player[1]]\n",
    "        if Maze[new_pose[0]][new_pose[1]] == 0:\n",
    "            Player = new_pose\n",
    " \n",
    "    def moveUp(self):\n",
    "        new_pose = [Player[0],Player[1]+1]\n",
    "        if Maze[new_pose[0]][new_pose[1]] == 0:\n",
    "            Player = new_pose\n",
    " \n",
    "    def moveDown(self):\n",
    "        new_pose = [Player[0],Player[1]-1]\n",
    "        if Maze[new_pose[0]][new_pose[1]] == 0:\n",
    "            Player = new_pose\n",
    " \n",
    "class Maze:\n",
    "    def __init__(self):\n",
    "       self.maze = [[0,0,0,0,1],\n",
    "                     [1,1,1,0,1],\n",
    "                     [1,0,1,0,1],\n",
    "                     [1,0,0,0,1],\n",
    "                     [1,0,1,1,1]]\n"
   ]
  }
 ],
 "metadata": {
  "language_info": {
   "name": "python"
  }
 },
 "nbformat": 4,
 "nbformat_minor": 2
}
